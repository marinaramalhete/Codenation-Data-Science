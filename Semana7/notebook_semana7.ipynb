{
 "cells": [
  {
   "cell_type": "markdown",
   "metadata": {},
   "source": [
    "# Aceleração em Data Science - Semana 7"
   ]
  },
  {
   "cell_type": "markdown",
   "metadata": {},
   "source": [
    "_\"A arte, como a moralidade, consiste em estabelecer um limite em algum lugar.\" - G.K. Cherterton_"
   ]
  },
  {
   "cell_type": "markdown",
   "metadata": {},
   "source": [
    "### Engenharia de Features"
   ]
  },
  {
   "cell_type": "markdown",
   "metadata": {},
   "source": [
    "#### Dados: https://www.kaggle.com/c/house-prices-advanced-regression-techniques/data"
   ]
  },
  {
   "cell_type": "markdown",
   "metadata": {},
   "source": [
    "### Setup"
   ]
  },
  {
   "cell_type": "code",
   "execution_count": 1,
   "metadata": {},
   "outputs": [],
   "source": [
    "import pandas as pd\n",
    "import numpy as np\n",
    "import seaborn as sns\n",
    "import matplotlib.pyplot as plt"
   ]
  },
  {
   "cell_type": "markdown",
   "metadata": {},
   "source": [
    "### Criação e leitura do Data Frame"
   ]
  },
  {
   "cell_type": "code",
   "execution_count": 2,
   "metadata": {},
   "outputs": [
    {
     "data": {
      "text/html": [
       "<div>\n",
       "<style scoped>\n",
       "    .dataframe tbody tr th:only-of-type {\n",
       "        vertical-align: middle;\n",
       "    }\n",
       "\n",
       "    .dataframe tbody tr th {\n",
       "        vertical-align: top;\n",
       "    }\n",
       "\n",
       "    .dataframe thead th {\n",
       "        text-align: right;\n",
       "    }\n",
       "</style>\n",
       "<table border=\"1\" class=\"dataframe\">\n",
       "  <thead>\n",
       "    <tr style=\"text-align: right;\">\n",
       "      <th></th>\n",
       "      <th>Id</th>\n",
       "      <th>MSSubClass</th>\n",
       "      <th>MSZoning</th>\n",
       "      <th>LotFrontage</th>\n",
       "      <th>LotArea</th>\n",
       "      <th>Street</th>\n",
       "      <th>Alley</th>\n",
       "      <th>LotShape</th>\n",
       "      <th>LandContour</th>\n",
       "      <th>Utilities</th>\n",
       "      <th>...</th>\n",
       "      <th>PoolArea</th>\n",
       "      <th>PoolQC</th>\n",
       "      <th>Fence</th>\n",
       "      <th>MiscFeature</th>\n",
       "      <th>MiscVal</th>\n",
       "      <th>MoSold</th>\n",
       "      <th>YrSold</th>\n",
       "      <th>SaleType</th>\n",
       "      <th>SaleCondition</th>\n",
       "      <th>SalePrice</th>\n",
       "    </tr>\n",
       "  </thead>\n",
       "  <tbody>\n",
       "    <tr>\n",
       "      <td>0</td>\n",
       "      <td>1</td>\n",
       "      <td>60</td>\n",
       "      <td>RL</td>\n",
       "      <td>65.0</td>\n",
       "      <td>8450</td>\n",
       "      <td>Pave</td>\n",
       "      <td>NaN</td>\n",
       "      <td>Reg</td>\n",
       "      <td>Lvl</td>\n",
       "      <td>AllPub</td>\n",
       "      <td>...</td>\n",
       "      <td>0</td>\n",
       "      <td>NaN</td>\n",
       "      <td>NaN</td>\n",
       "      <td>NaN</td>\n",
       "      <td>0</td>\n",
       "      <td>2</td>\n",
       "      <td>2008</td>\n",
       "      <td>WD</td>\n",
       "      <td>Normal</td>\n",
       "      <td>208500</td>\n",
       "    </tr>\n",
       "    <tr>\n",
       "      <td>1</td>\n",
       "      <td>2</td>\n",
       "      <td>20</td>\n",
       "      <td>RL</td>\n",
       "      <td>80.0</td>\n",
       "      <td>9600</td>\n",
       "      <td>Pave</td>\n",
       "      <td>NaN</td>\n",
       "      <td>Reg</td>\n",
       "      <td>Lvl</td>\n",
       "      <td>AllPub</td>\n",
       "      <td>...</td>\n",
       "      <td>0</td>\n",
       "      <td>NaN</td>\n",
       "      <td>NaN</td>\n",
       "      <td>NaN</td>\n",
       "      <td>0</td>\n",
       "      <td>5</td>\n",
       "      <td>2007</td>\n",
       "      <td>WD</td>\n",
       "      <td>Normal</td>\n",
       "      <td>181500</td>\n",
       "    </tr>\n",
       "    <tr>\n",
       "      <td>2</td>\n",
       "      <td>3</td>\n",
       "      <td>60</td>\n",
       "      <td>RL</td>\n",
       "      <td>68.0</td>\n",
       "      <td>11250</td>\n",
       "      <td>Pave</td>\n",
       "      <td>NaN</td>\n",
       "      <td>IR1</td>\n",
       "      <td>Lvl</td>\n",
       "      <td>AllPub</td>\n",
       "      <td>...</td>\n",
       "      <td>0</td>\n",
       "      <td>NaN</td>\n",
       "      <td>NaN</td>\n",
       "      <td>NaN</td>\n",
       "      <td>0</td>\n",
       "      <td>9</td>\n",
       "      <td>2008</td>\n",
       "      <td>WD</td>\n",
       "      <td>Normal</td>\n",
       "      <td>223500</td>\n",
       "    </tr>\n",
       "    <tr>\n",
       "      <td>3</td>\n",
       "      <td>4</td>\n",
       "      <td>70</td>\n",
       "      <td>RL</td>\n",
       "      <td>60.0</td>\n",
       "      <td>9550</td>\n",
       "      <td>Pave</td>\n",
       "      <td>NaN</td>\n",
       "      <td>IR1</td>\n",
       "      <td>Lvl</td>\n",
       "      <td>AllPub</td>\n",
       "      <td>...</td>\n",
       "      <td>0</td>\n",
       "      <td>NaN</td>\n",
       "      <td>NaN</td>\n",
       "      <td>NaN</td>\n",
       "      <td>0</td>\n",
       "      <td>2</td>\n",
       "      <td>2006</td>\n",
       "      <td>WD</td>\n",
       "      <td>Abnorml</td>\n",
       "      <td>140000</td>\n",
       "    </tr>\n",
       "    <tr>\n",
       "      <td>4</td>\n",
       "      <td>5</td>\n",
       "      <td>60</td>\n",
       "      <td>RL</td>\n",
       "      <td>84.0</td>\n",
       "      <td>14260</td>\n",
       "      <td>Pave</td>\n",
       "      <td>NaN</td>\n",
       "      <td>IR1</td>\n",
       "      <td>Lvl</td>\n",
       "      <td>AllPub</td>\n",
       "      <td>...</td>\n",
       "      <td>0</td>\n",
       "      <td>NaN</td>\n",
       "      <td>NaN</td>\n",
       "      <td>NaN</td>\n",
       "      <td>0</td>\n",
       "      <td>12</td>\n",
       "      <td>2008</td>\n",
       "      <td>WD</td>\n",
       "      <td>Normal</td>\n",
       "      <td>250000</td>\n",
       "    </tr>\n",
       "  </tbody>\n",
       "</table>\n",
       "<p>5 rows × 81 columns</p>\n",
       "</div>"
      ],
      "text/plain": [
       "   Id  MSSubClass MSZoning  LotFrontage  LotArea Street Alley LotShape  \\\n",
       "0   1          60       RL         65.0     8450   Pave   NaN      Reg   \n",
       "1   2          20       RL         80.0     9600   Pave   NaN      Reg   \n",
       "2   3          60       RL         68.0    11250   Pave   NaN      IR1   \n",
       "3   4          70       RL         60.0     9550   Pave   NaN      IR1   \n",
       "4   5          60       RL         84.0    14260   Pave   NaN      IR1   \n",
       "\n",
       "  LandContour Utilities  ... PoolArea PoolQC Fence MiscFeature MiscVal MoSold  \\\n",
       "0         Lvl    AllPub  ...        0    NaN   NaN         NaN       0      2   \n",
       "1         Lvl    AllPub  ...        0    NaN   NaN         NaN       0      5   \n",
       "2         Lvl    AllPub  ...        0    NaN   NaN         NaN       0      9   \n",
       "3         Lvl    AllPub  ...        0    NaN   NaN         NaN       0      2   \n",
       "4         Lvl    AllPub  ...        0    NaN   NaN         NaN       0     12   \n",
       "\n",
       "  YrSold  SaleType  SaleCondition  SalePrice  \n",
       "0   2008        WD         Normal     208500  \n",
       "1   2007        WD         Normal     181500  \n",
       "2   2008        WD         Normal     223500  \n",
       "3   2006        WD        Abnorml     140000  \n",
       "4   2008        WD         Normal     250000  \n",
       "\n",
       "[5 rows x 81 columns]"
      ]
     },
     "execution_count": 2,
     "metadata": {},
     "output_type": "execute_result"
    }
   ],
   "source": [
    "df = pd.read_csv('train.csv')\n",
    "df.head()"
   ]
  },
  {
   "cell_type": "code",
   "execution_count": 3,
   "metadata": {},
   "outputs": [
    {
     "data": {
      "text/html": [
       "<div>\n",
       "<style scoped>\n",
       "    .dataframe tbody tr th:only-of-type {\n",
       "        vertical-align: middle;\n",
       "    }\n",
       "\n",
       "    .dataframe tbody tr th {\n",
       "        vertical-align: top;\n",
       "    }\n",
       "\n",
       "    .dataframe thead th {\n",
       "        text-align: right;\n",
       "    }\n",
       "</style>\n",
       "<table border=\"1\" class=\"dataframe\">\n",
       "  <thead>\n",
       "    <tr style=\"text-align: right;\">\n",
       "      <th></th>\n",
       "      <th>787</th>\n",
       "      <th>1452</th>\n",
       "      <th>347</th>\n",
       "      <th>710</th>\n",
       "      <th>997</th>\n",
       "    </tr>\n",
       "  </thead>\n",
       "  <tbody>\n",
       "    <tr>\n",
       "      <td>Id</td>\n",
       "      <td>788</td>\n",
       "      <td>1453</td>\n",
       "      <td>348</td>\n",
       "      <td>711</td>\n",
       "      <td>998</td>\n",
       "    </tr>\n",
       "    <tr>\n",
       "      <td>MSSubClass</td>\n",
       "      <td>60</td>\n",
       "      <td>180</td>\n",
       "      <td>20</td>\n",
       "      <td>30</td>\n",
       "      <td>20</td>\n",
       "    </tr>\n",
       "    <tr>\n",
       "      <td>MSZoning</td>\n",
       "      <td>RL</td>\n",
       "      <td>RM</td>\n",
       "      <td>RL</td>\n",
       "      <td>RL</td>\n",
       "      <td>RL</td>\n",
       "    </tr>\n",
       "    <tr>\n",
       "      <td>LotFrontage</td>\n",
       "      <td>76</td>\n",
       "      <td>35</td>\n",
       "      <td>NaN</td>\n",
       "      <td>56</td>\n",
       "      <td>NaN</td>\n",
       "    </tr>\n",
       "    <tr>\n",
       "      <td>LotArea</td>\n",
       "      <td>10142</td>\n",
       "      <td>3675</td>\n",
       "      <td>17600</td>\n",
       "      <td>4130</td>\n",
       "      <td>11717</td>\n",
       "    </tr>\n",
       "    <tr>\n",
       "      <td>...</td>\n",
       "      <td>...</td>\n",
       "      <td>...</td>\n",
       "      <td>...</td>\n",
       "      <td>...</td>\n",
       "      <td>...</td>\n",
       "    </tr>\n",
       "    <tr>\n",
       "      <td>MoSold</td>\n",
       "      <td>1</td>\n",
       "      <td>5</td>\n",
       "      <td>12</td>\n",
       "      <td>7</td>\n",
       "      <td>2</td>\n",
       "    </tr>\n",
       "    <tr>\n",
       "      <td>YrSold</td>\n",
       "      <td>2010</td>\n",
       "      <td>2006</td>\n",
       "      <td>2009</td>\n",
       "      <td>2008</td>\n",
       "      <td>2009</td>\n",
       "    </tr>\n",
       "    <tr>\n",
       "      <td>SaleType</td>\n",
       "      <td>WD</td>\n",
       "      <td>WD</td>\n",
       "      <td>WD</td>\n",
       "      <td>WD</td>\n",
       "      <td>WD</td>\n",
       "    </tr>\n",
       "    <tr>\n",
       "      <td>SaleCondition</td>\n",
       "      <td>Normal</td>\n",
       "      <td>Normal</td>\n",
       "      <td>Normal</td>\n",
       "      <td>Normal</td>\n",
       "      <td>Normal</td>\n",
       "    </tr>\n",
       "    <tr>\n",
       "      <td>SalePrice</td>\n",
       "      <td>233000</td>\n",
       "      <td>145000</td>\n",
       "      <td>157500</td>\n",
       "      <td>52000</td>\n",
       "      <td>185000</td>\n",
       "    </tr>\n",
       "  </tbody>\n",
       "</table>\n",
       "<p>81 rows × 5 columns</p>\n",
       "</div>"
      ],
      "text/plain": [
       "                 787     1452    347     710     997 \n",
       "Id                788    1453     348     711     998\n",
       "MSSubClass         60     180      20      30      20\n",
       "MSZoning           RL      RM      RL      RL      RL\n",
       "LotFrontage        76      35     NaN      56     NaN\n",
       "LotArea         10142    3675   17600    4130   11717\n",
       "...               ...     ...     ...     ...     ...\n",
       "MoSold              1       5      12       7       2\n",
       "YrSold           2010    2006    2009    2008    2009\n",
       "SaleType           WD      WD      WD      WD      WD\n",
       "SaleCondition  Normal  Normal  Normal  Normal  Normal\n",
       "SalePrice      233000  145000  157500   52000  185000\n",
       "\n",
       "[81 rows x 5 columns]"
      ]
     },
     "execution_count": 3,
     "metadata": {},
     "output_type": "execute_result"
    }
   ],
   "source": [
    "df.sample(5).T"
   ]
  },
  {
   "cell_type": "code",
   "execution_count": 4,
   "metadata": {},
   "outputs": [],
   "source": [
    "X_train = df.drop(columns = 'SalePrice')\n",
    "y_train = df['SalePrice']"
   ]
  },
  {
   "cell_type": "code",
   "execution_count": 5,
   "metadata": {},
   "outputs": [],
   "source": [
    "X_test = pd.read_csv('test.csv')\n",
    "y_test = pd.read_csv('sample_submission.csv')"
   ]
  },
  {
   "cell_type": "markdown",
   "metadata": {},
   "source": [
    "### Análise"
   ]
  },
  {
   "cell_type": "markdown",
   "metadata": {},
   "source": [
    "##### Seleção por completude"
   ]
  },
  {
   "cell_type": "code",
   "execution_count": 6,
   "metadata": {},
   "outputs": [],
   "source": [
    "#Criando um dataframe auxliar para analisar a consistencia das variaveis\n",
    "cons = pd.DataFrame({'colunas' : df.columns,\n",
    "                    'tipo': df.dtypes,\n",
    "                    'missing' : df.isna().sum(),\n",
    "                    'size' : df.shape[0],\n",
    "                    'unicos': df.nunique()})\n",
    "cons['percentual'] = round(cons['missing'] / cons['size'],2)"
   ]
  },
  {
   "cell_type": "code",
   "execution_count": 7,
   "metadata": {},
   "outputs": [
    {
     "data": {
      "text/html": [
       "<div>\n",
       "<style scoped>\n",
       "    .dataframe tbody tr th:only-of-type {\n",
       "        vertical-align: middle;\n",
       "    }\n",
       "\n",
       "    .dataframe tbody tr th {\n",
       "        vertical-align: top;\n",
       "    }\n",
       "\n",
       "    .dataframe thead th {\n",
       "        text-align: right;\n",
       "    }\n",
       "</style>\n",
       "<table border=\"1\" class=\"dataframe\">\n",
       "  <thead>\n",
       "    <tr style=\"text-align: right;\">\n",
       "      <th></th>\n",
       "      <th>colunas</th>\n",
       "      <th>tipo</th>\n",
       "      <th>missing</th>\n",
       "      <th>size</th>\n",
       "      <th>unicos</th>\n",
       "      <th>percentual</th>\n",
       "    </tr>\n",
       "  </thead>\n",
       "  <tbody>\n",
       "    <tr>\n",
       "      <td>Id</td>\n",
       "      <td>Id</td>\n",
       "      <td>int64</td>\n",
       "      <td>0</td>\n",
       "      <td>1460</td>\n",
       "      <td>1460</td>\n",
       "      <td>0.00</td>\n",
       "    </tr>\n",
       "    <tr>\n",
       "      <td>MSSubClass</td>\n",
       "      <td>MSSubClass</td>\n",
       "      <td>int64</td>\n",
       "      <td>0</td>\n",
       "      <td>1460</td>\n",
       "      <td>15</td>\n",
       "      <td>0.00</td>\n",
       "    </tr>\n",
       "    <tr>\n",
       "      <td>MSZoning</td>\n",
       "      <td>MSZoning</td>\n",
       "      <td>object</td>\n",
       "      <td>0</td>\n",
       "      <td>1460</td>\n",
       "      <td>5</td>\n",
       "      <td>0.00</td>\n",
       "    </tr>\n",
       "    <tr>\n",
       "      <td>LotFrontage</td>\n",
       "      <td>LotFrontage</td>\n",
       "      <td>float64</td>\n",
       "      <td>259</td>\n",
       "      <td>1460</td>\n",
       "      <td>110</td>\n",
       "      <td>0.18</td>\n",
       "    </tr>\n",
       "    <tr>\n",
       "      <td>LotArea</td>\n",
       "      <td>LotArea</td>\n",
       "      <td>int64</td>\n",
       "      <td>0</td>\n",
       "      <td>1460</td>\n",
       "      <td>1073</td>\n",
       "      <td>0.00</td>\n",
       "    </tr>\n",
       "  </tbody>\n",
       "</table>\n",
       "</div>"
      ],
      "text/plain": [
       "                 colunas     tipo  missing  size  unicos  percentual\n",
       "Id                    Id    int64        0  1460    1460        0.00\n",
       "MSSubClass    MSSubClass    int64        0  1460      15        0.00\n",
       "MSZoning        MSZoning   object        0  1460       5        0.00\n",
       "LotFrontage  LotFrontage  float64      259  1460     110        0.18\n",
       "LotArea          LotArea    int64        0  1460    1073        0.00"
      ]
     },
     "execution_count": 7,
     "metadata": {},
     "output_type": "execute_result"
    }
   ],
   "source": [
    "cons.head()"
   ]
  },
  {
   "cell_type": "markdown",
   "metadata": {},
   "source": [
    "### Removendo colunas com dados missing"
   ]
  },
  {
   "cell_type": "code",
   "execution_count": 8,
   "metadata": {},
   "outputs": [
    {
     "name": "stdout",
     "output_type": "stream",
     "text": [
      "Contagem de colunas com ATÉ 20% de dados faltantes 76\n",
      "Contagem de colunas com 0% de dados faltantes 63\n"
     ]
    }
   ],
   "source": [
    "print('Contagem de colunas com ATÉ 20% de dados faltantes', cons[cons.percentual < 0.2].shape[0])\n",
    "print('Contagem de colunas com 0% de dados faltantes',  cons[cons.percentual == 0].shape[0])"
   ]
  },
  {
   "cell_type": "code",
   "execution_count": 9,
   "metadata": {},
   "outputs": [
    {
     "data": {
      "text/plain": [
       "int64     35\n",
       "object    28\n",
       "Name: tipo, dtype: int64"
      ]
     },
     "execution_count": 9,
     "metadata": {},
     "output_type": "execute_result"
    }
   ],
   "source": [
    "cons[cons.percentual == 0]['tipo'].value_counts()"
   ]
  },
  {
   "cell_type": "code",
   "execution_count": 10,
   "metadata": {},
   "outputs": [],
   "source": [
    "cons['completa'] = ['completa' if x == 0 else 'faltante' for x in cons['percentual']]"
   ]
  },
  {
   "cell_type": "code",
   "execution_count": 11,
   "metadata": {},
   "outputs": [],
   "source": [
    "mantem = list(cons[cons['completa'] == 'completa']['colunas'])\n",
    "df = df[mantem]"
   ]
  },
  {
   "cell_type": "code",
   "execution_count": 12,
   "metadata": {
    "scrolled": true
   },
   "outputs": [
    {
     "data": {
      "text/plain": [
       "<bound method DataFrame.drop of         Id  MSSubClass MSZoning  LotArea Street LotShape LandContour  \\\n",
       "0        1          60       RL     8450   Pave      Reg         Lvl   \n",
       "1        2          20       RL     9600   Pave      Reg         Lvl   \n",
       "2        3          60       RL    11250   Pave      IR1         Lvl   \n",
       "3        4          70       RL     9550   Pave      IR1         Lvl   \n",
       "4        5          60       RL    14260   Pave      IR1         Lvl   \n",
       "...    ...         ...      ...      ...    ...      ...         ...   \n",
       "1455  1456          60       RL     7917   Pave      Reg         Lvl   \n",
       "1456  1457          20       RL    13175   Pave      Reg         Lvl   \n",
       "1457  1458          70       RL     9042   Pave      Reg         Lvl   \n",
       "1458  1459          20       RL     9717   Pave      Reg         Lvl   \n",
       "1459  1460          20       RL     9937   Pave      Reg         Lvl   \n",
       "\n",
       "     Utilities LotConfig LandSlope  ... EnclosedPorch 3SsnPorch ScreenPorch  \\\n",
       "0       AllPub    Inside       Gtl  ...             0         0           0   \n",
       "1       AllPub       FR2       Gtl  ...             0         0           0   \n",
       "2       AllPub    Inside       Gtl  ...             0         0           0   \n",
       "3       AllPub    Corner       Gtl  ...           272         0           0   \n",
       "4       AllPub       FR2       Gtl  ...             0         0           0   \n",
       "...        ...       ...       ...  ...           ...       ...         ...   \n",
       "1455    AllPub    Inside       Gtl  ...             0         0           0   \n",
       "1456    AllPub    Inside       Gtl  ...             0         0           0   \n",
       "1457    AllPub    Inside       Gtl  ...             0         0           0   \n",
       "1458    AllPub    Inside       Gtl  ...           112         0           0   \n",
       "1459    AllPub    Inside       Gtl  ...             0         0           0   \n",
       "\n",
       "     PoolArea MiscVal  MoSold  YrSold  SaleType  SaleCondition SalePrice  \n",
       "0           0       0       2    2008        WD         Normal    208500  \n",
       "1           0       0       5    2007        WD         Normal    181500  \n",
       "2           0       0       9    2008        WD         Normal    223500  \n",
       "3           0       0       2    2006        WD        Abnorml    140000  \n",
       "4           0       0      12    2008        WD         Normal    250000  \n",
       "...       ...     ...     ...     ...       ...            ...       ...  \n",
       "1455        0       0       8    2007        WD         Normal    175000  \n",
       "1456        0       0       2    2010        WD         Normal    210000  \n",
       "1457        0    2500       5    2010        WD         Normal    266500  \n",
       "1458        0       0       4    2010        WD         Normal    142125  \n",
       "1459        0       0       6    2008        WD         Normal    147500  \n",
       "\n",
       "[1460 rows x 63 columns]>"
      ]
     },
     "execution_count": 12,
     "metadata": {},
     "output_type": "execute_result"
    }
   ],
   "source": [
    "df.drop"
   ]
  },
  {
   "cell_type": "code",
   "execution_count": 13,
   "metadata": {},
   "outputs": [],
   "source": [
    "colunas_numericas = list(cons[((cons['tipo'] != 'object') &\n",
    "                              (cons['completa'] == 'completa'))]['colunas'])\n",
    "\n",
    "colunas_numericas.remove('SalePrice')"
   ]
  },
  {
   "cell_type": "code",
   "execution_count": 14,
   "metadata": {},
   "outputs": [],
   "source": [
    "colunas_categoricas = list(cons[((cons['tipo'] == 'object') &\n",
    "                              (cons['completa'] == 'completa'))]['colunas'])"
   ]
  },
  {
   "cell_type": "markdown",
   "metadata": {},
   "source": [
    "### Variáveis categóricas"
   ]
  },
  {
   "cell_type": "markdown",
   "metadata": {},
   "source": [
    "##### Label Encoding"
   ]
  },
  {
   "cell_type": "code",
   "execution_count": 15,
   "metadata": {},
   "outputs": [
    {
     "data": {
      "text/plain": [
       "Index(['Id', 'MSSubClass', 'MSZoning', 'LotArea', 'Street', 'LotShape',\n",
       "       'LandContour', 'Utilities', 'LotConfig', 'LandSlope', 'Neighborhood',\n",
       "       'Condition1', 'Condition2', 'BldgType', 'HouseStyle', 'OverallQual',\n",
       "       'OverallCond', 'YearBuilt', 'YearRemodAdd', 'RoofStyle', 'RoofMatl',\n",
       "       'Exterior1st', 'Exterior2nd', 'ExterQual', 'ExterCond', 'Foundation',\n",
       "       'BsmtFinSF1', 'BsmtFinSF2', 'BsmtUnfSF', 'TotalBsmtSF', 'Heating',\n",
       "       'HeatingQC', 'CentralAir', 'Electrical', '1stFlrSF', '2ndFlrSF',\n",
       "       'LowQualFinSF', 'GrLivArea', 'BsmtFullBath', 'BsmtHalfBath', 'FullBath',\n",
       "       'HalfBath', 'BedroomAbvGr', 'KitchenAbvGr', 'KitchenQual',\n",
       "       'TotRmsAbvGrd', 'Functional', 'Fireplaces', 'GarageCars', 'GarageArea',\n",
       "       'PavedDrive', 'WoodDeckSF', 'OpenPorchSF', 'EnclosedPorch', '3SsnPorch',\n",
       "       'ScreenPorch', 'PoolArea', 'MiscVal', 'MoSold', 'YrSold', 'SaleType',\n",
       "       'SaleCondition', 'SalePrice'],\n",
       "      dtype='object')"
      ]
     },
     "execution_count": 15,
     "metadata": {},
     "output_type": "execute_result"
    }
   ],
   "source": [
    "df.columns"
   ]
  },
  {
   "cell_type": "markdown",
   "metadata": {},
   "source": [
    "##### Label encoder"
   ]
  },
  {
   "cell_type": "code",
   "execution_count": 16,
   "metadata": {},
   "outputs": [],
   "source": [
    "from sklearn.preprocessing import LabelEncoder"
   ]
  },
  {
   "cell_type": "code",
   "execution_count": 17,
   "metadata": {},
   "outputs": [],
   "source": [
    "encoding = LabelEncoder()"
   ]
  },
  {
   "cell_type": "code",
   "execution_count": 18,
   "metadata": {},
   "outputs": [
    {
     "data": {
      "text/plain": [
       "array([6, 4, 4, ..., 7, 3, 4])"
      ]
     },
     "execution_count": 18,
     "metadata": {},
     "output_type": "execute_result"
    }
   ],
   "source": [
    "encoding.fit_transform(df['TotRmsAbvGrd'])"
   ]
  },
  {
   "cell_type": "markdown",
   "metadata": {},
   "source": [
    "##### Dummies"
   ]
  },
  {
   "cell_type": "code",
   "execution_count": 19,
   "metadata": {},
   "outputs": [
    {
     "data": {
      "text/plain": [
       "(1460, 63)"
      ]
     },
     "execution_count": 19,
     "metadata": {},
     "output_type": "execute_result"
    }
   ],
   "source": [
    "df.shape"
   ]
  },
  {
   "cell_type": "code",
   "execution_count": 20,
   "metadata": {},
   "outputs": [
    {
     "data": {
      "text/plain": [
       "(1460, 222)"
      ]
     },
     "execution_count": 20,
     "metadata": {},
     "output_type": "execute_result"
    }
   ],
   "source": [
    "pd.get_dummies(df).shape"
   ]
  },
  {
   "cell_type": "markdown",
   "metadata": {},
   "source": [
    "##### Catboost"
   ]
  },
  {
   "cell_type": "code",
   "execution_count": 21,
   "metadata": {},
   "outputs": [],
   "source": [
    "import category_encoders as ce"
   ]
  },
  {
   "cell_type": "code",
   "execution_count": 22,
   "metadata": {},
   "outputs": [],
   "source": [
    "catb = ce.CatBoostEncoder(cols=colunas_categoricas)"
   ]
  },
  {
   "cell_type": "code",
   "execution_count": 23,
   "metadata": {},
   "outputs": [
    {
     "data": {
      "text/html": [
       "<div>\n",
       "<style scoped>\n",
       "    .dataframe tbody tr th:only-of-type {\n",
       "        vertical-align: middle;\n",
       "    }\n",
       "\n",
       "    .dataframe tbody tr th {\n",
       "        vertical-align: top;\n",
       "    }\n",
       "\n",
       "    .dataframe thead th {\n",
       "        text-align: right;\n",
       "    }\n",
       "</style>\n",
       "<table border=\"1\" class=\"dataframe\">\n",
       "  <thead>\n",
       "    <tr style=\"text-align: right;\">\n",
       "      <th></th>\n",
       "      <th>MSZoning</th>\n",
       "      <th>Street</th>\n",
       "      <th>LotShape</th>\n",
       "      <th>LandContour</th>\n",
       "      <th>Utilities</th>\n",
       "      <th>LotConfig</th>\n",
       "      <th>LandSlope</th>\n",
       "      <th>Neighborhood</th>\n",
       "      <th>Condition1</th>\n",
       "      <th>Condition2</th>\n",
       "      <th>...</th>\n",
       "      <th>Foundation</th>\n",
       "      <th>Heating</th>\n",
       "      <th>HeatingQC</th>\n",
       "      <th>CentralAir</th>\n",
       "      <th>Electrical</th>\n",
       "      <th>KitchenQual</th>\n",
       "      <th>Functional</th>\n",
       "      <th>PavedDrive</th>\n",
       "      <th>SaleType</th>\n",
       "      <th>SaleCondition</th>\n",
       "    </tr>\n",
       "  </thead>\n",
       "  <tbody>\n",
       "    <tr>\n",
       "      <td>0</td>\n",
       "      <td>180921.195890</td>\n",
       "      <td>180921.195890</td>\n",
       "      <td>180921.195890</td>\n",
       "      <td>180921.195890</td>\n",
       "      <td>180921.195890</td>\n",
       "      <td>180921.195890</td>\n",
       "      <td>180921.195890</td>\n",
       "      <td>180921.195890</td>\n",
       "      <td>180921.195890</td>\n",
       "      <td>180921.195890</td>\n",
       "      <td>...</td>\n",
       "      <td>180921.195890</td>\n",
       "      <td>180921.195890</td>\n",
       "      <td>180921.195890</td>\n",
       "      <td>180921.195890</td>\n",
       "      <td>180921.195890</td>\n",
       "      <td>180921.195890</td>\n",
       "      <td>180921.195890</td>\n",
       "      <td>180921.195890</td>\n",
       "      <td>180921.195890</td>\n",
       "      <td>180921.195890</td>\n",
       "    </tr>\n",
       "    <tr>\n",
       "      <td>1</td>\n",
       "      <td>194710.597945</td>\n",
       "      <td>194710.597945</td>\n",
       "      <td>194710.597945</td>\n",
       "      <td>194710.597945</td>\n",
       "      <td>194710.597945</td>\n",
       "      <td>180921.195890</td>\n",
       "      <td>194710.597945</td>\n",
       "      <td>180921.195890</td>\n",
       "      <td>180921.195890</td>\n",
       "      <td>194710.597945</td>\n",
       "      <td>...</td>\n",
       "      <td>180921.195890</td>\n",
       "      <td>194710.597945</td>\n",
       "      <td>194710.597945</td>\n",
       "      <td>194710.597945</td>\n",
       "      <td>194710.597945</td>\n",
       "      <td>180921.195890</td>\n",
       "      <td>194710.597945</td>\n",
       "      <td>194710.597945</td>\n",
       "      <td>194710.597945</td>\n",
       "      <td>194710.597945</td>\n",
       "    </tr>\n",
       "    <tr>\n",
       "      <td>2</td>\n",
       "      <td>190307.065297</td>\n",
       "      <td>190307.065297</td>\n",
       "      <td>180921.195890</td>\n",
       "      <td>190307.065297</td>\n",
       "      <td>190307.065297</td>\n",
       "      <td>194710.597945</td>\n",
       "      <td>190307.065297</td>\n",
       "      <td>194710.597945</td>\n",
       "      <td>194710.597945</td>\n",
       "      <td>190307.065297</td>\n",
       "      <td>...</td>\n",
       "      <td>194710.597945</td>\n",
       "      <td>190307.065297</td>\n",
       "      <td>190307.065297</td>\n",
       "      <td>190307.065297</td>\n",
       "      <td>190307.065297</td>\n",
       "      <td>194710.597945</td>\n",
       "      <td>190307.065297</td>\n",
       "      <td>190307.065297</td>\n",
       "      <td>190307.065297</td>\n",
       "      <td>190307.065297</td>\n",
       "    </tr>\n",
       "    <tr>\n",
       "      <td>3</td>\n",
       "      <td>198605.298973</td>\n",
       "      <td>198605.298973</td>\n",
       "      <td>202210.597945</td>\n",
       "      <td>198605.298973</td>\n",
       "      <td>198605.298973</td>\n",
       "      <td>180921.195890</td>\n",
       "      <td>198605.298973</td>\n",
       "      <td>180921.195890</td>\n",
       "      <td>204307.065297</td>\n",
       "      <td>198605.298973</td>\n",
       "      <td>...</td>\n",
       "      <td>180921.195890</td>\n",
       "      <td>198605.298973</td>\n",
       "      <td>180921.195890</td>\n",
       "      <td>198605.298973</td>\n",
       "      <td>198605.298973</td>\n",
       "      <td>204307.065297</td>\n",
       "      <td>198605.298973</td>\n",
       "      <td>198605.298973</td>\n",
       "      <td>198605.298973</td>\n",
       "      <td>180921.195890</td>\n",
       "    </tr>\n",
       "    <tr>\n",
       "      <td>4</td>\n",
       "      <td>186884.239178</td>\n",
       "      <td>186884.239178</td>\n",
       "      <td>181473.731963</td>\n",
       "      <td>186884.239178</td>\n",
       "      <td>186884.239178</td>\n",
       "      <td>181210.597945</td>\n",
       "      <td>186884.239178</td>\n",
       "      <td>180921.195890</td>\n",
       "      <td>188230.298973</td>\n",
       "      <td>186884.239178</td>\n",
       "      <td>...</td>\n",
       "      <td>204307.065297</td>\n",
       "      <td>186884.239178</td>\n",
       "      <td>198605.298973</td>\n",
       "      <td>186884.239178</td>\n",
       "      <td>186884.239178</td>\n",
       "      <td>188230.298973</td>\n",
       "      <td>186884.239178</td>\n",
       "      <td>186884.239178</td>\n",
       "      <td>186884.239178</td>\n",
       "      <td>198605.298973</td>\n",
       "    </tr>\n",
       "    <tr>\n",
       "      <td>...</td>\n",
       "      <td>...</td>\n",
       "      <td>...</td>\n",
       "      <td>...</td>\n",
       "      <td>...</td>\n",
       "      <td>...</td>\n",
       "      <td>...</td>\n",
       "      <td>...</td>\n",
       "      <td>...</td>\n",
       "      <td>...</td>\n",
       "      <td>...</td>\n",
       "      <td>...</td>\n",
       "      <td>...</td>\n",
       "      <td>...</td>\n",
       "      <td>...</td>\n",
       "      <td>...</td>\n",
       "      <td>...</td>\n",
       "      <td>...</td>\n",
       "      <td>...</td>\n",
       "      <td>...</td>\n",
       "      <td>...</td>\n",
       "      <td>...</td>\n",
       "    </tr>\n",
       "    <tr>\n",
       "      <td>1455</td>\n",
       "      <td>191008.321880</td>\n",
       "      <td>181105.930480</td>\n",
       "      <td>164644.954610</td>\n",
       "      <td>180153.548734</td>\n",
       "      <td>180925.939654</td>\n",
       "      <td>176887.998279</td>\n",
       "      <td>179927.498691</td>\n",
       "      <td>192929.458176</td>\n",
       "      <td>184477.799519</td>\n",
       "      <td>181144.751697</td>\n",
       "      <td>...</td>\n",
       "      <td>225239.593811</td>\n",
       "      <td>181998.639885</td>\n",
       "      <td>214852.720535</td>\n",
       "      <td>186175.352826</td>\n",
       "      <td>186781.834858</td>\n",
       "      <td>139864.757430</td>\n",
       "      <td>183429.208693</td>\n",
       "      <td>186423.144608</td>\n",
       "      <td>173349.107835</td>\n",
       "      <td>175152.475038</td>\n",
       "    </tr>\n",
       "    <tr>\n",
       "      <td>1456</td>\n",
       "      <td>190994.377348</td>\n",
       "      <td>181101.722396</td>\n",
       "      <td>164656.185679</td>\n",
       "      <td>180149.608712</td>\n",
       "      <td>180921.869640</td>\n",
       "      <td>176886.198471</td>\n",
       "      <td>179923.925450</td>\n",
       "      <td>188651.728711</td>\n",
       "      <td>184470.259503</td>\n",
       "      <td>181140.490427</td>\n",
       "      <td>...</td>\n",
       "      <td>149775.505057</td>\n",
       "      <td>181993.728559</td>\n",
       "      <td>142294.935037</td>\n",
       "      <td>186167.147721</td>\n",
       "      <td>186772.989637</td>\n",
       "      <td>139912.625607</td>\n",
       "      <td>145447.457932</td>\n",
       "      <td>186414.600745</td>\n",
       "      <td>173350.413921</td>\n",
       "      <td>175152.347444</td>\n",
       "    </tr>\n",
       "    <tr>\n",
       "      <td>1457</td>\n",
       "      <td>191010.918360</td>\n",
       "      <td>181121.624791</td>\n",
       "      <td>164705.312238</td>\n",
       "      <td>180172.412678</td>\n",
       "      <td>180941.827176</td>\n",
       "      <td>176917.735425</td>\n",
       "      <td>179945.719707</td>\n",
       "      <td>208946.709723</td>\n",
       "      <td>184490.553415</td>\n",
       "      <td>181160.490087</td>\n",
       "      <td>...</td>\n",
       "      <td>151696.032648</td>\n",
       "      <td>182013.368300</td>\n",
       "      <td>214798.938186</td>\n",
       "      <td>186184.633306</td>\n",
       "      <td>186790.414250</td>\n",
       "      <td>212089.378113</td>\n",
       "      <td>183423.001617</td>\n",
       "      <td>186432.228099</td>\n",
       "      <td>173379.385926</td>\n",
       "      <td>175181.484278</td>\n",
       "    </tr>\n",
       "    <tr>\n",
       "      <td>1458</td>\n",
       "      <td>191076.561040</td>\n",
       "      <td>181180.384856</td>\n",
       "      <td>164815.479649</td>\n",
       "      <td>180238.311600</td>\n",
       "      <td>181000.509051</td>\n",
       "      <td>177002.970691</td>\n",
       "      <td>180008.394783</td>\n",
       "      <td>146019.507537</td>\n",
       "      <td>184555.691974</td>\n",
       "      <td>181219.589471</td>\n",
       "      <td>...</td>\n",
       "      <td>149870.646439</td>\n",
       "      <td>182072.574069</td>\n",
       "      <td>157059.517483</td>\n",
       "      <td>186243.515540</td>\n",
       "      <td>122609.619105</td>\n",
       "      <td>212182.229003</td>\n",
       "      <td>183484.132594</td>\n",
       "      <td>186492.024792</td>\n",
       "      <td>173452.940913</td>\n",
       "      <td>175257.773764</td>\n",
       "    </tr>\n",
       "    <tr>\n",
       "      <td>1459</td>\n",
       "      <td>191034.031447</td>\n",
       "      <td>181153.524206</td>\n",
       "      <td>164790.949401</td>\n",
       "      <td>180209.239661</td>\n",
       "      <td>180973.863739</td>\n",
       "      <td>176969.816726</td>\n",
       "      <td>179980.982776</td>\n",
       "      <td>128553.911959</td>\n",
       "      <td>184522.016822</td>\n",
       "      <td>181192.534392</td>\n",
       "      <td>...</td>\n",
       "      <td>149858.429331</td>\n",
       "      <td>182044.599577</td>\n",
       "      <td>156997.548531</td>\n",
       "      <td>186211.194283</td>\n",
       "      <td>186850.166564</td>\n",
       "      <td>140007.982579</td>\n",
       "      <td>183453.721468</td>\n",
       "      <td>186458.915072</td>\n",
       "      <td>173428.214835</td>\n",
       "      <td>175230.117025</td>\n",
       "    </tr>\n",
       "  </tbody>\n",
       "</table>\n",
       "<p>1460 rows × 28 columns</p>\n",
       "</div>"
      ],
      "text/plain": [
       "           MSZoning         Street       LotShape    LandContour  \\\n",
       "0     180921.195890  180921.195890  180921.195890  180921.195890   \n",
       "1     194710.597945  194710.597945  194710.597945  194710.597945   \n",
       "2     190307.065297  190307.065297  180921.195890  190307.065297   \n",
       "3     198605.298973  198605.298973  202210.597945  198605.298973   \n",
       "4     186884.239178  186884.239178  181473.731963  186884.239178   \n",
       "...             ...            ...            ...            ...   \n",
       "1455  191008.321880  181105.930480  164644.954610  180153.548734   \n",
       "1456  190994.377348  181101.722396  164656.185679  180149.608712   \n",
       "1457  191010.918360  181121.624791  164705.312238  180172.412678   \n",
       "1458  191076.561040  181180.384856  164815.479649  180238.311600   \n",
       "1459  191034.031447  181153.524206  164790.949401  180209.239661   \n",
       "\n",
       "          Utilities      LotConfig      LandSlope   Neighborhood  \\\n",
       "0     180921.195890  180921.195890  180921.195890  180921.195890   \n",
       "1     194710.597945  180921.195890  194710.597945  180921.195890   \n",
       "2     190307.065297  194710.597945  190307.065297  194710.597945   \n",
       "3     198605.298973  180921.195890  198605.298973  180921.195890   \n",
       "4     186884.239178  181210.597945  186884.239178  180921.195890   \n",
       "...             ...            ...            ...            ...   \n",
       "1455  180925.939654  176887.998279  179927.498691  192929.458176   \n",
       "1456  180921.869640  176886.198471  179923.925450  188651.728711   \n",
       "1457  180941.827176  176917.735425  179945.719707  208946.709723   \n",
       "1458  181000.509051  177002.970691  180008.394783  146019.507537   \n",
       "1459  180973.863739  176969.816726  179980.982776  128553.911959   \n",
       "\n",
       "         Condition1     Condition2  ...     Foundation        Heating  \\\n",
       "0     180921.195890  180921.195890  ...  180921.195890  180921.195890   \n",
       "1     180921.195890  194710.597945  ...  180921.195890  194710.597945   \n",
       "2     194710.597945  190307.065297  ...  194710.597945  190307.065297   \n",
       "3     204307.065297  198605.298973  ...  180921.195890  198605.298973   \n",
       "4     188230.298973  186884.239178  ...  204307.065297  186884.239178   \n",
       "...             ...            ...  ...            ...            ...   \n",
       "1455  184477.799519  181144.751697  ...  225239.593811  181998.639885   \n",
       "1456  184470.259503  181140.490427  ...  149775.505057  181993.728559   \n",
       "1457  184490.553415  181160.490087  ...  151696.032648  182013.368300   \n",
       "1458  184555.691974  181219.589471  ...  149870.646439  182072.574069   \n",
       "1459  184522.016822  181192.534392  ...  149858.429331  182044.599577   \n",
       "\n",
       "          HeatingQC     CentralAir     Electrical    KitchenQual  \\\n",
       "0     180921.195890  180921.195890  180921.195890  180921.195890   \n",
       "1     194710.597945  194710.597945  194710.597945  180921.195890   \n",
       "2     190307.065297  190307.065297  190307.065297  194710.597945   \n",
       "3     180921.195890  198605.298973  198605.298973  204307.065297   \n",
       "4     198605.298973  186884.239178  186884.239178  188230.298973   \n",
       "...             ...            ...            ...            ...   \n",
       "1455  214852.720535  186175.352826  186781.834858  139864.757430   \n",
       "1456  142294.935037  186167.147721  186772.989637  139912.625607   \n",
       "1457  214798.938186  186184.633306  186790.414250  212089.378113   \n",
       "1458  157059.517483  186243.515540  122609.619105  212182.229003   \n",
       "1459  156997.548531  186211.194283  186850.166564  140007.982579   \n",
       "\n",
       "         Functional     PavedDrive       SaleType  SaleCondition  \n",
       "0     180921.195890  180921.195890  180921.195890  180921.195890  \n",
       "1     194710.597945  194710.597945  194710.597945  194710.597945  \n",
       "2     190307.065297  190307.065297  190307.065297  190307.065297  \n",
       "3     198605.298973  198605.298973  198605.298973  180921.195890  \n",
       "4     186884.239178  186884.239178  186884.239178  198605.298973  \n",
       "...             ...            ...            ...            ...  \n",
       "1455  183429.208693  186423.144608  173349.107835  175152.475038  \n",
       "1456  145447.457932  186414.600745  173350.413921  175152.347444  \n",
       "1457  183423.001617  186432.228099  173379.385926  175181.484278  \n",
       "1458  183484.132594  186492.024792  173452.940913  175257.773764  \n",
       "1459  183453.721468  186458.915072  173428.214835  175230.117025  \n",
       "\n",
       "[1460 rows x 28 columns]"
      ]
     },
     "execution_count": 23,
     "metadata": {},
     "output_type": "execute_result"
    }
   ],
   "source": [
    "catb.fit_transform(X_train[colunas_categoricas], y_train)"
   ]
  },
  {
   "cell_type": "markdown",
   "metadata": {},
   "source": [
    "### Variáveis númericas"
   ]
  },
  {
   "cell_type": "markdown",
   "metadata": {},
   "source": [
    "##### Standard Scaler"
   ]
  },
  {
   "cell_type": "code",
   "execution_count": 24,
   "metadata": {},
   "outputs": [],
   "source": [
    "from sklearn.preprocessing import StandardScaler"
   ]
  },
  {
   "cell_type": "code",
   "execution_count": 25,
   "metadata": {},
   "outputs": [],
   "source": [
    "std = StandardScaler()"
   ]
  },
  {
   "cell_type": "code",
   "execution_count": 26,
   "metadata": {},
   "outputs": [
    {
     "data": {
      "text/plain": [
       "array([[-1.73086488,  0.07337496, -0.20714171, ..., -0.08768781,\n",
       "        -1.5991111 ,  0.13877749],\n",
       "       [-1.7284922 , -0.87256276, -0.09188637, ..., -0.08768781,\n",
       "        -0.48911005, -0.61443862],\n",
       "       [-1.72611953,  0.07337496,  0.07347998, ..., -0.08768781,\n",
       "         0.99089135,  0.13877749],\n",
       "       ...,\n",
       "       [ 1.72611953,  0.30985939, -0.14781027, ...,  4.95311151,\n",
       "        -0.48911005,  1.64520971],\n",
       "       [ 1.7284922 , -0.87256276, -0.08016039, ..., -0.08768781,\n",
       "        -0.8591104 ,  1.64520971],\n",
       "       [ 1.73086488, -0.87256276, -0.05811155, ..., -0.08768781,\n",
       "        -0.1191097 ,  0.13877749]])"
      ]
     },
     "execution_count": 26,
     "metadata": {},
     "output_type": "execute_result"
    }
   ],
   "source": [
    "std.fit_transform(X_train[colunas_numericas])"
   ]
  },
  {
   "cell_type": "markdown",
   "metadata": {},
   "source": [
    "##### MinMaxScaler"
   ]
  },
  {
   "cell_type": "code",
   "execution_count": 27,
   "metadata": {},
   "outputs": [],
   "source": [
    "from sklearn.preprocessing import MinMaxScaler"
   ]
  },
  {
   "cell_type": "code",
   "execution_count": 28,
   "metadata": {},
   "outputs": [],
   "source": [
    "minmax = MinMaxScaler()"
   ]
  },
  {
   "cell_type": "code",
   "execution_count": 29,
   "metadata": {},
   "outputs": [
    {
     "data": {
      "text/plain": [
       "array([[0.00000000e+00, 2.35294118e-01, 3.34198042e-02, ...,\n",
       "        0.00000000e+00, 9.09090909e-02, 5.00000000e-01],\n",
       "       [6.85400960e-04, 0.00000000e+00, 3.87950174e-02, ...,\n",
       "        0.00000000e+00, 3.63636364e-01, 2.50000000e-01],\n",
       "       [1.37080192e-03, 2.35294118e-01, 4.65072799e-02, ...,\n",
       "        0.00000000e+00, 7.27272727e-01, 5.00000000e-01],\n",
       "       ...,\n",
       "       [9.98629198e-01, 2.94117647e-01, 3.61868705e-02, ...,\n",
       "        1.61290323e-01, 3.63636364e-01, 1.00000000e+00],\n",
       "       [9.99314599e-01, 0.00000000e+00, 3.93418869e-02, ...,\n",
       "        0.00000000e+00, 2.72727273e-01, 1.00000000e+00],\n",
       "       [1.00000000e+00, 0.00000000e+00, 4.03701886e-02, ...,\n",
       "        0.00000000e+00, 4.54545455e-01, 5.00000000e-01]])"
      ]
     },
     "execution_count": 29,
     "metadata": {},
     "output_type": "execute_result"
    }
   ],
   "source": [
    "minmax.fit_transform(X_train[colunas_numericas])"
   ]
  },
  {
   "cell_type": "markdown",
   "metadata": {},
   "source": [
    "##### MinAbsScaler"
   ]
  },
  {
   "cell_type": "code",
   "execution_count": 30,
   "metadata": {},
   "outputs": [],
   "source": [
    "from sklearn.preprocessing import MaxAbsScaler"
   ]
  },
  {
   "cell_type": "code",
   "execution_count": 31,
   "metadata": {},
   "outputs": [],
   "source": [
    "maxabs = MaxAbsScaler()"
   ]
  },
  {
   "cell_type": "code",
   "execution_count": 32,
   "metadata": {},
   "outputs": [
    {
     "data": {
      "text/plain": [
       "array([[6.84931507e-04, 3.15789474e-01, 3.92575902e-02, ...,\n",
       "        0.00000000e+00, 1.66666667e-01, 9.99004975e-01],\n",
       "       [1.36986301e-03, 1.05263158e-01, 4.46003391e-02, ...,\n",
       "        0.00000000e+00, 4.16666667e-01, 9.98507463e-01],\n",
       "       [2.05479452e-03, 3.15789474e-01, 5.22660224e-02, ...,\n",
       "        0.00000000e+00, 7.50000000e-01, 9.99004975e-01],\n",
       "       ...,\n",
       "       [9.98630137e-01, 3.68421053e-01, 4.20079444e-02, ...,\n",
       "        1.61290323e-01, 4.16666667e-01, 1.00000000e+00],\n",
       "       [9.99315068e-01, 1.05263158e-01, 4.51439058e-02, ...,\n",
       "        0.00000000e+00, 3.33333333e-01, 1.00000000e+00],\n",
       "       [1.00000000e+00, 1.05263158e-01, 4.61659969e-02, ...,\n",
       "        0.00000000e+00, 5.00000000e-01, 9.99004975e-01]])"
      ]
     },
     "execution_count": 32,
     "metadata": {},
     "output_type": "execute_result"
    }
   ],
   "source": [
    "maxabs.fit_transform(X_train[colunas_numericas])"
   ]
  }
 ],
 "metadata": {
  "kernelspec": {
   "display_name": "Python 3",
   "language": "python",
   "name": "python3"
  },
  "language_info": {
   "codemirror_mode": {
    "name": "ipython",
    "version": 3
   },
   "file_extension": ".py",
   "mimetype": "text/x-python",
   "name": "python",
   "nbconvert_exporter": "python",
   "pygments_lexer": "ipython3",
   "version": "3.7.4"
  }
 },
 "nbformat": 4,
 "nbformat_minor": 2
}
